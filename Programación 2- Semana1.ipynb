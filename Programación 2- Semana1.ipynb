{
  "cells": [
    {
      "cell_type": "markdown",
      "metadata": {
        "id": "intro"
      },
      "source": [
        "# Operaciones básicas en Python\n",
        "\n",
        "Este notebook cubre los conceptos básicos de Python, incluyendo variables, operaciones aritméticas, y operaciones con texto."
      ]
    },
    {
      "cell_type": "markdown",
      "metadata": {
        "id": "variables"
      },
      "source": [
        "## Variables en Python\n",
        "\n",
        "Una variable en Python es similar a un contacto guardado en tu teléfono. El nombre de la variable es como el nombre del contacto, y el valor asignado es como el número de teléfono.\n",
        "\n",
        "Ejemplo:"
      ]
    },
    {
      "cell_type": "code",
      "execution_count": null,
      "metadata": {
        "id": "variable-example"
      },
      "outputs": [],
      "source": [
        "mama = \"123-456-7890\"\n",
        "print(mama)"
      ]
    },
    {
      "cell_type": "markdown",
      "metadata": {
        "id": "assignment"
      },
      "source": [
        "### Asignación\n",
        "\n",
        "La asignación de una variable se realiza utilizando el operador `=`. Ejemplos:"
      ]
    },
    {
      "cell_type": "code",
      "execution_count": null,
      "metadata": {
        "id": "assignment-examples"
      },
      "outputs": [],
      "source": [
        "edad = 30\n",
        "nombre = \"Ana\"\n",
        "print(f\"Nombre: {nombre}, Edad: {edad}\")\n",
        "\n",
        "# Actualización de valor\n",
        "edad = 31\n",
        "print(f\"Nueva edad: {edad}\")\n",
        "\n",
        "# Asignación múltiple\n",
        "x, y, z = 1, 2, \"tres\"\n",
        "print(f\"x: {x}, y: {y}, z: {z}\")"
      ]
    },
    {
      "cell_type": "markdown",
      "metadata": {
        "id": "print-function"
      },
      "source": [
        "## Uso de print()\n",
        "\n",
        "La función `print()` se utiliza para mostrar información en la pantalla."
      ]
    },
    {
      "cell_type": "code",
      "execution_count": null,
      "metadata": {
        "id": "print-examples"
      },
      "outputs": [],
      "source": [
        "# Imprimir texto simple\n",
        "print(\"Hola, mundo!\")\n",
        "\n",
        "# Imprimir múltiples valores\n",
        "nombre = \"Ana\"\n",
        "edad = 25\n",
        "print(nombre, edad)\n",
        "\n",
        "# Imprimir con formato\n",
        "print(f\"Mi nombre es {nombre} y tengo {edad} años.\")\n",
        "\n",
        "# Uso de parámetros sep y end\n",
        "print(nombre, edad, sep=\", \", end=\" - \")\n",
        "print(\"Fin\")"
      ]
    },
    {
      "cell_type": "markdown",
      "metadata": {
        "id": "arithmetic-operations"
      },
      "source": [
        "## Operaciones Aritméticas\n",
        "\n",
        "Python soporta las operaciones aritméticas básicas."
      ]
    },
    {
      "cell_type": "code",
      "execution_count": null,
      "metadata": {
        "id": "arithmetic-examples"
      },
      "outputs": [],
      "source": [
        "# Suma\n",
        "print(\"Suma:\", 10 + 5)\n",
        "\n",
        "# Resta\n",
        "print(\"Resta:\", 10 - 5)\n",
        "\n",
        "# Multiplicación\n",
        "print(\"Multiplicación:\", 10 * 5)\n",
        "\n",
        "# División\n",
        "print(\"División:\", 10 / 5)\n",
        "\n",
        "# División entera\n",
        "print(\"División entera:\", 10 // 3)\n",
        "\n",
        "# Módulo\n",
        "print(\"Módulo:\", 10 % 3)\n",
        "\n",
        "# Exponenciación\n",
        "print(\"Exponenciación:\", 2 ** 3)\n",
        "\n",
        "# Precedencia de operaciones\n",
        "print(\"Precedencia:\", (2 + 3) * 4)"
      ]
    },
    {
      "cell_type": "markdown",
      "metadata": {
        "id": "compound-assignment"
      },
      "source": [
        "## Operadores de Asignación Compuesta\n",
        "\n",
        "Estos operadores combinan una operación aritmética con una asignación."
      ]
    },
    {
      "cell_type": "code",
      "execution_count": null,
      "metadata": {
        "id": "compound-assignment-examples"
      },
      "outputs": [],
      "source": [
        "x = 10\n",
        "\n",
        "# Suma y asignación\n",
        "x += 3\n",
        "print(\"Después de +=:\", x)\n",
        "\n",
        "# Resta y asignación\n",
        "x -= 2\n",
        "print(\"Después de -=:\", x)\n",
        "\n",
        "# Multiplicación y asignación\n",
        "x *= 2\n",
        "print(\"Después de *=:\", x)\n",
        "\n",
        "# División y asignación\n",
        "x /= 2\n",
        "print(\"Después de /=:\", x)"
      ]
    },
    {
      "cell_type": "markdown",
      "metadata": {
        "id": "string-operations"
      },
      "source": [
        "## Operaciones con Texto\n",
        "\n",
        "Python ofrece diversas operaciones para manipular cadenas de texto."
      ]
    },
    {
      "cell_type": "code",
      "execution_count": null,
      "metadata": {
        "id": "string-operations-examples"
      },
      "outputs": [],
      "source": [
        "# Concatenación\n",
        "saludo = \"Hola, \" + \"mundo!\"\n",
        "print(\"Concatenación:\", saludo)\n",
        "\n",
        "# Repetición\n",
        "risa = \"ja\" * 3\n",
        "print(\"Repetición:\", risa)\n",
        "\n",
        "# Acceso por índice\n",
        "letra = \"Hola\"[1]\n",
        "print(\"Acceso por índice:\", letra)\n",
        "\n",
        "# Slicing\n",
        "subcadena = \"Hola mundo\"[0:4]\n",
        "print(\"Slicing:\", subcadena)\n",
        "\n",
        "# Métodos de cadenas\n",
        "print(\"upper():\", \"hola\".upper())\n",
        "print(\"lower():\", \"HOLA\".lower())\n",
        "print(\"strip():\", \"  hola mundo  \".strip())\n",
        "print(\"split():\", \"hola,mundo,cruel\".split(\",\"))\n",
        "print(\"join():\", \", \".join([\"hola\", \"mundo\", \"cruel\"]))\n",
        "print(\"replace():\", \"hola mundo\".replace(\"mundo\", \"a todos\"))\n",
        "print(\"find():\", \"hola mundo\".find(\"mundo\"))\n",
        "\n",
        "# Formateo de cadenas\n",
        "nombre = \"mundo\"\n",
        "print(\"format():\", \"Hola, {}\".format(nombre))\n",
        "print(\"f-string:\", f\"Hola, {nombre}\")"
      ]
    },
    {
      "cell_type": "markdown",
      "metadata": {
        "id": "workshop"
      },
      "source": [
        "## Taller\n",
        "\n",
        "1. Investiga qué tipo de variables usa el ESP32. Escribe el tipo de variables que debe utilizar el robot. Recuerda que tu robot lleva sensores e internamente debe diseñarse la inteligencia del robot.\n",
        "\n",
        "2. Escribe un programa en Python que calcule la nota final de programación 2.\n",
        "\n",
        "3. Se tienen las siguientes variables. Usando solo operadores aritméticos para cadenas de texto en Python, encuentra el mensaje oculto. Imprime el mensaje secreto."
      ]
    },
    {
      "cell_type": "code",
      "execution_count": null,
      "metadata": {
        "id": "workshop-exercise"
      },
      "outputs": [],
      "source": [
        "Parte1=\"cia e\"\n",
        "Parte2=\"edi\"\n",
        "Parte3=\"ambia\"\n",
        "Parte4=\"ligen\"\n",
        "Parte5=\"d pa\"\n",
        "Parte6=\"La m\"\n",
        "Parte7=\"da d\"\n",
        "Parte8=\"inte\"\n",
        "Parte9=\"s la\"\n",
        "Parte10=\"habi\"\n",
        "Parte11=\"lida\"\n",
        "Parte12=\"r\"\n",
        "Parte13=\"e la\"\n",
        "Parte14=\"dp a\"\n",
        "Parte15=\"ra c\"\n",
        "\n",
        "# Tu código aquí para descifrar el mensaje\n",
        "mensaje = # Combina las partes en el orden correcto\n",
        "print(\"Mensaje secreto:\", mensaje)"
      ]
    }
  ],
  "metadata": {
    "colab": {
      "name": "Python_Basics.ipynb",
      "provenance": []
    },
    "kernelspec": {
      "display_name": "Python 3",
      "name": "python3"
    },
    "language_info": {
      "name": "python"
    }
  },
  "nbformat": 4,
  "nbformat_minor": 0
}